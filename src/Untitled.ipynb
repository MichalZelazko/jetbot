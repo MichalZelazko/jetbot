{
 "cells": [
  {
   "cell_type": "code",
   "execution_count": 3,
   "id": "sublime-hostel",
   "metadata": {},
   "outputs": [],
   "source": [
    "from custom_robot import CustomRobot\n",
    "import time\n",
    "import sys\n",
    "\n",
    "def test_1():\n",
    "    robot = CustomRobot()\n",
    "    #robot.left_motor.alpha = 1\n",
    "    #robot.right_motor.alpha = 0.98\n",
    "\n",
    "    speed = 0.3\n",
    "\n",
    "    robot.forward(speed/5)\n",
    "    time.sleep(0.2)\n",
    "    robot.forward(speed/4)\n",
    "    time.sleep(0.2)\n",
    "    robot.forward(speed/3)\n",
    "    time.sleep(0.2)\n",
    "    robot.forward(speed/2)\n",
    "    time.sleep(0.2)\n",
    "    robot.forward(speed/1.5)\n",
    "    time.sleep(0.2)\n",
    "    robot.forward(speed/1.3)\n",
    "    time.sleep(0.2)\n",
    "    robot.forward(speed/1.1)\n",
    "    time.sleep(0.2)\n",
    "\n",
    "    robot.forward(speed)\n",
    "    time.sleep(5)\n",
    "    robot.stop()\n",
    "    \n",
    "def test_2():\n",
    "    robot = CustomRobot()\n",
    "    robot.forward_gradual(0.5, 5)\n",
    "    time.sleep(5)\n",
    "    robot.stop_gradual()\n",
    "    \n",
    "def test_3():\n",
    "    import os\n",
    "    import traitlets\n",
    "    import debugpy\n",
    "    path = os.path.abspath(traitlets.__file__)\n",
    "    print(path)\n",
    "    \n",
    "test_2()"
   ]
  },
  {
   "cell_type": "code",
   "execution_count": 2,
   "id": "accredited-feeding",
   "metadata": {},
   "outputs": [
    {
     "ename": "NameError",
     "evalue": "name 'robot' is not defined",
     "output_type": "error",
     "traceback": [
      "\u001b[0;31m\u001b[0m",
      "\u001b[0;31mNameError\u001b[0mTraceback (most recent call last)",
      "\u001b[0;32m<ipython-input-2-90f33d338210>\u001b[0m in \u001b[0;36m<module>\u001b[0;34m\u001b[0m\n\u001b[0;32m----> 1\u001b[0;31m \u001b[0mrobot\u001b[0m\u001b[0;34m.\u001b[0m\u001b[0mstop\u001b[0m\u001b[0;34m(\u001b[0m\u001b[0;34m)\u001b[0m\u001b[0;34m\u001b[0m\u001b[0;34m\u001b[0m\u001b[0m\n\u001b[0m\u001b[1;32m      2\u001b[0m \u001b[0mcamera\u001b[0m\u001b[0;34m.\u001b[0m\u001b[0mstop\u001b[0m\u001b[0;34m(\u001b[0m\u001b[0;34m)\u001b[0m\u001b[0;34m\u001b[0m\u001b[0;34m\u001b[0m\u001b[0m\n",
      "\u001b[0;31mNameError\u001b[0m: name 'robot' is not defined"
     ]
    }
   ],
   "source": [
    "robot.stop()\n",
    "camera.stop()"
   ]
  },
  {
   "cell_type": "code",
   "execution_count": null,
   "id": "funded-photographer",
   "metadata": {},
   "outputs": [],
   "source": []
  }
 ],
 "metadata": {
  "kernelspec": {
   "display_name": "Python 3",
   "language": "python",
   "name": "python3"
  },
  "language_info": {
   "codemirror_mode": {
    "name": "ipython",
    "version": 3
   },
   "file_extension": ".py",
   "mimetype": "text/x-python",
   "name": "python",
   "nbconvert_exporter": "python",
   "pygments_lexer": "ipython3",
   "version": "3.6.9"
  }
 },
 "nbformat": 4,
 "nbformat_minor": 5
}
